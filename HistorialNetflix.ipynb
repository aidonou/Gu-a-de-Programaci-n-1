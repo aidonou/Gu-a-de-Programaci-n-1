{
  "nbformat": 4,
  "nbformat_minor": 0,
  "metadata": {
    "colab": {
      "provenance": [],
      "collapsed_sections": [],
      "include_colab_link": true
    },
    "kernelspec": {
      "name": "python3",
      "display_name": "Python 3"
    },
    "language_info": {
      "name": "python"
    }
  },
  "cells": [
    {
      "cell_type": "markdown",
      "metadata": {
        "id": "view-in-github",
        "colab_type": "text"
      },
      "source": [
        "<a href=\"https://colab.research.google.com/github/aidonou/Gu-a-de-Programaci-n-1/blob/main/HistorialNetflix.ipynb\" target=\"_parent\"><img src=\"https://colab.research.google.com/assets/colab-badge.svg\" alt=\"Open In Colab\"/></a>"
      ]
    },
    {
      "cell_type": "markdown",
      "source": [
        "Librerias:"
      ],
      "metadata": {
        "id": "LVXnBB-PBMlD"
      }
    },
    {
      "cell_type": "code",
      "execution_count": null,
      "metadata": {
        "id": "AG6BwW7F9aBa"
      },
      "outputs": [],
      "source": [
        "import pandas as pd\n",
        "import matplotlib.pyplot as plt\n",
        "import seaborn\n",
        "from google.colab import files\n",
        "from datetime import datetime"
      ]
    },
    {
      "cell_type": "code",
      "source": [
        "file_ = files.upload()"
      ],
      "metadata": {
        "colab": {
          "base_uri": "https://localhost:8080/",
          "height": 332
        },
        "id": "KgO4EOF9nfqy",
        "outputId": "6b50c34a-6bf4-4f8b-cd88-46383748fb50"
      },
      "execution_count": null,
      "outputs": [
        {
          "output_type": "display_data",
          "data": {
            "text/plain": [
              "<IPython.core.display.HTML object>"
            ],
            "text/html": [
              "\n",
              "     <input type=\"file\" id=\"files-8b959d66-4501-48d6-9088-284680f61a60\" name=\"files[]\" multiple disabled\n",
              "        style=\"border:none\" />\n",
              "     <output id=\"result-8b959d66-4501-48d6-9088-284680f61a60\">\n",
              "      Upload widget is only available when the cell has been executed in the\n",
              "      current browser session. Please rerun this cell to enable.\n",
              "      </output>\n",
              "      <script src=\"/nbextensions/google.colab/files.js\"></script> "
            ]
          },
          "metadata": {}
        },
        {
          "output_type": "error",
          "ename": "MessageError",
          "evalue": "ignored",
          "traceback": [
            "\u001b[0;31m---------------------------------------------------------------------------\u001b[0m",
            "\u001b[0;31mMessageError\u001b[0m                              Traceback (most recent call last)",
            "\u001b[0;32m<ipython-input-24-45528ebee9f8>\u001b[0m in \u001b[0;36m<module>\u001b[0;34m\u001b[0m\n\u001b[0;32m----> 1\u001b[0;31m \u001b[0mfile_\u001b[0m \u001b[0;34m=\u001b[0m \u001b[0mfiles\u001b[0m\u001b[0;34m.\u001b[0m\u001b[0mupload\u001b[0m\u001b[0;34m(\u001b[0m\u001b[0;34m)\u001b[0m\u001b[0;34m\u001b[0m\u001b[0;34m\u001b[0m\u001b[0m\n\u001b[0m",
            "\u001b[0;32m/usr/local/lib/python3.7/dist-packages/google/colab/files.py\u001b[0m in \u001b[0;36mupload\u001b[0;34m()\u001b[0m\n\u001b[1;32m     39\u001b[0m   \"\"\"\n\u001b[1;32m     40\u001b[0m \u001b[0;34m\u001b[0m\u001b[0m\n\u001b[0;32m---> 41\u001b[0;31m   \u001b[0muploaded_files\u001b[0m \u001b[0;34m=\u001b[0m \u001b[0m_upload_files\u001b[0m\u001b[0;34m(\u001b[0m\u001b[0mmultiple\u001b[0m\u001b[0;34m=\u001b[0m\u001b[0;32mTrue\u001b[0m\u001b[0;34m)\u001b[0m\u001b[0;34m\u001b[0m\u001b[0;34m\u001b[0m\u001b[0m\n\u001b[0m\u001b[1;32m     42\u001b[0m   \u001b[0;31m# Mapping from original filename to filename as saved locally.\u001b[0m\u001b[0;34m\u001b[0m\u001b[0;34m\u001b[0m\u001b[0;34m\u001b[0m\u001b[0m\n\u001b[1;32m     43\u001b[0m   \u001b[0mlocal_filenames\u001b[0m \u001b[0;34m=\u001b[0m \u001b[0mdict\u001b[0m\u001b[0;34m(\u001b[0m\u001b[0;34m)\u001b[0m\u001b[0;34m\u001b[0m\u001b[0;34m\u001b[0m\u001b[0m\n",
            "\u001b[0;32m/usr/local/lib/python3.7/dist-packages/google/colab/files.py\u001b[0m in \u001b[0;36m_upload_files\u001b[0;34m(multiple)\u001b[0m\n\u001b[1;32m    116\u001b[0m   result = _output.eval_js(\n\u001b[1;32m    117\u001b[0m       'google.colab._files._uploadFiles(\"{input_id}\", \"{output_id}\")'.format(\n\u001b[0;32m--> 118\u001b[0;31m           input_id=input_id, output_id=output_id))\n\u001b[0m\u001b[1;32m    119\u001b[0m   \u001b[0mfiles\u001b[0m \u001b[0;34m=\u001b[0m \u001b[0m_collections\u001b[0m\u001b[0;34m.\u001b[0m\u001b[0mdefaultdict\u001b[0m\u001b[0;34m(\u001b[0m\u001b[0mbytes\u001b[0m\u001b[0;34m)\u001b[0m\u001b[0;34m\u001b[0m\u001b[0;34m\u001b[0m\u001b[0m\n\u001b[1;32m    120\u001b[0m \u001b[0;34m\u001b[0m\u001b[0m\n",
            "\u001b[0;32m/usr/local/lib/python3.7/dist-packages/google/colab/output/_js.py\u001b[0m in \u001b[0;36meval_js\u001b[0;34m(script, ignore_result, timeout_sec)\u001b[0m\n\u001b[1;32m     38\u001b[0m   \u001b[0;32mif\u001b[0m \u001b[0mignore_result\u001b[0m\u001b[0;34m:\u001b[0m\u001b[0;34m\u001b[0m\u001b[0;34m\u001b[0m\u001b[0m\n\u001b[1;32m     39\u001b[0m     \u001b[0;32mreturn\u001b[0m\u001b[0;34m\u001b[0m\u001b[0;34m\u001b[0m\u001b[0m\n\u001b[0;32m---> 40\u001b[0;31m   \u001b[0;32mreturn\u001b[0m \u001b[0m_message\u001b[0m\u001b[0;34m.\u001b[0m\u001b[0mread_reply_from_input\u001b[0m\u001b[0;34m(\u001b[0m\u001b[0mrequest_id\u001b[0m\u001b[0;34m,\u001b[0m \u001b[0mtimeout_sec\u001b[0m\u001b[0;34m)\u001b[0m\u001b[0;34m\u001b[0m\u001b[0;34m\u001b[0m\u001b[0m\n\u001b[0m\u001b[1;32m     41\u001b[0m \u001b[0;34m\u001b[0m\u001b[0m\n\u001b[1;32m     42\u001b[0m \u001b[0;34m\u001b[0m\u001b[0m\n",
            "\u001b[0;32m/usr/local/lib/python3.7/dist-packages/google/colab/_message.py\u001b[0m in \u001b[0;36mread_reply_from_input\u001b[0;34m(message_id, timeout_sec)\u001b[0m\n\u001b[1;32m    100\u001b[0m         reply.get('colab_msg_id') == message_id):\n\u001b[1;32m    101\u001b[0m       \u001b[0;32mif\u001b[0m \u001b[0;34m'error'\u001b[0m \u001b[0;32min\u001b[0m \u001b[0mreply\u001b[0m\u001b[0;34m:\u001b[0m\u001b[0;34m\u001b[0m\u001b[0;34m\u001b[0m\u001b[0m\n\u001b[0;32m--> 102\u001b[0;31m         \u001b[0;32mraise\u001b[0m \u001b[0mMessageError\u001b[0m\u001b[0;34m(\u001b[0m\u001b[0mreply\u001b[0m\u001b[0;34m[\u001b[0m\u001b[0;34m'error'\u001b[0m\u001b[0;34m]\u001b[0m\u001b[0;34m)\u001b[0m\u001b[0;34m\u001b[0m\u001b[0;34m\u001b[0m\u001b[0m\n\u001b[0m\u001b[1;32m    103\u001b[0m       \u001b[0;32mreturn\u001b[0m \u001b[0mreply\u001b[0m\u001b[0;34m.\u001b[0m\u001b[0mget\u001b[0m\u001b[0;34m(\u001b[0m\u001b[0;34m'data'\u001b[0m\u001b[0;34m,\u001b[0m \u001b[0;32mNone\u001b[0m\u001b[0;34m)\u001b[0m\u001b[0;34m\u001b[0m\u001b[0;34m\u001b[0m\u001b[0m\n\u001b[1;32m    104\u001b[0m \u001b[0;34m\u001b[0m\u001b[0m\n",
            "\u001b[0;31mMessageError\u001b[0m: TypeError: Cannot read properties of undefined (reading '_uploadFiles')"
          ]
        }
      ]
    },
    {
      "cell_type": "code",
      "source": [
        "from google.colab import drive\n",
        "drive.mount('/content/drive')"
      ],
      "metadata": {
        "id": "bAiw_GYC-zVZ",
        "outputId": "08d689e8-8777-40d9-bc04-3dd18d891df7",
        "colab": {
          "base_uri": "https://localhost:8080/"
        }
      },
      "execution_count": null,
      "outputs": [
        {
          "output_type": "stream",
          "name": "stdout",
          "text": [
            "Drive already mounted at /content/drive; to attempt to forcibly remount, call drive.mount(\"/content/drive\", force_remount=True).\n"
          ]
        }
      ]
    },
    {
      "cell_type": "code",
      "source": [
        "hist = pd.read_csv(\"NetflixHistory.csv\")"
      ],
      "metadata": {
        "id": "GhvZL_zLBg9G"
      },
      "execution_count": null,
      "outputs": []
    },
    {
      "cell_type": "code",
      "source": [
        "def filtro_dev (dispositivos):\n",
        "  return dispositivos not in [\"Sony PS4\", \"Chrome PC (Cadmium)\", \"Apple iPhone 7 Plus (CDMA)\", \"Apple iPhone 6s\", \"Netflix Windows App - Cadmium Windows Mobile\", \"Samsung 2015 NT14M DTV Smart TV\", \"iPhone 5S GSM\", \"Google Chromecast V3 Streaming Stick\"]"
      ],
      "metadata": {
        "id": "0U5WyBn6BZt4"
      },
      "execution_count": null,
      "outputs": []
    },
    {
      "cell_type": "code",
      "source": [
        "df = hist[hist[\"Device Type\"].apply(filtro_dev)]"
      ],
      "metadata": {
        "id": "ar2_OEW7BlXn"
      },
      "execution_count": null,
      "outputs": []
    },
    {
      "cell_type": "code",
      "source": [
        "def TextoASeg(string):\n",
        "  if not isinstance(string, str):\n",
        "    return string\n",
        "  hours, minutes, seconds = string.split(\":\")\n",
        "  return int(seconds) + (int(minutes) + int(hours) * 60) * 60\n",
        "\n",
        "df['Duration'] = df['Duration'].apply(TextoASeg)"
      ],
      "metadata": {
        "id": "tFCc3TpQ0myT",
        "colab": {
          "base_uri": "https://localhost:8080/"
        },
        "outputId": "1b02fbae-ce49-4f85-fd44-9ef29c663555"
      },
      "execution_count": null,
      "outputs": [
        {
          "output_type": "stream",
          "name": "stderr",
          "text": [
            "/usr/local/lib/python3.7/dist-packages/ipykernel_launcher.py:7: SettingWithCopyWarning: \n",
            "A value is trying to be set on a copy of a slice from a DataFrame.\n",
            "Try using .loc[row_indexer,col_indexer] = value instead\n",
            "\n",
            "See the caveats in the documentation: https://pandas.pydata.org/pandas-docs/stable/user_guide/indexing.html#returning-a-view-versus-a-copy\n",
            "  import sys\n"
          ]
        }
      ]
    },
    {
      "cell_type": "code",
      "source": [
        "df = df[pd.isna(df[\"Supplemental Video Type\"])]\n",
        "\n",
        "# En el df filtrado solo por dispositivos quedaban objetos que no eran ni series ni películas, y estaban diferenciados por un valor nulo o no en la serie \"Supplemental Video Type\"\n",
        "# La función \"pd.isna\" refiere a los valores nulos y le pasé como parámetro la serie \"Supplemental Video Type\", para que se fije q valores nulos hay y solo guarde esos en el mismo df\n",
        "# Esto no lo sabía, pero necesitaba dejar afuera los trailers, los hooks y diferentes items que no eran ni series ni películas y no tenía idea como hasta que me ayudó Matias Blanco"
      ],
      "metadata": {
        "id": "jG9ieL4n-hO1"
      },
      "execution_count": null,
      "outputs": []
    },
    {
      "cell_type": "code",
      "source": [
        "peliculas = df[df[\"Title\"].str.split(\":\").apply(len) < 3]\n",
        "series = df[df['Title'].str.split(\":\").apply(len) > 2]"
      ],
      "metadata": {
        "id": "EqwhvG_85sN-"
      },
      "execution_count": null,
      "outputs": []
    },
    {
      "cell_type": "markdown",
      "source": [
        "Esto lo que hace es devolver un dataframe en el que solo hay películas (o debería) porque divide los strings de la serie \"Title\" cada vez que hay un \":\", y si la funcion \"len\" me devuelve que hay menos de 3 strings, guarda el registro en el dataframe llamado \"peliculas\""
      ],
      "metadata": {
        "id": "FAQqknOWM0NL"
      }
    },
    {
      "cell_type": "code",
      "source": [
        "def StrToSecs (String):\n",
        "  if isinstance(String, int):\n",
        "    return String\n",
        "  horas, minutos, segundos = String.split(\":\")\n",
        "  return int(segundos) + (int(minutos) + (int (horas) * 60)) * 60\n",
        "\n",
        "df[\"Duration\"] = df[\"Duration\"].apply(StrToSecs)"
      ],
      "metadata": {
        "id": "qZ8-RzV0It7c"
      },
      "execution_count": null,
      "outputs": []
    },
    {
      "cell_type": "markdown",
      "source": [
        "Ej 1: Contabilizar el dispositivo con el que más títulos se reprodujeron\n",
        "\n",
        "value_counts lo que hace es contar la cantidad de veces que aparecen valores únicos en la columna especificada del dataframe que tiene guardado el historial filtrado, y si uso esta función con la de idxmax, me devuelve el valor único que más se repitió a lo largo de toda la columna del dataframe"
      ],
      "metadata": {
        "id": "qwIR42ORBY09"
      }
    },
    {
      "cell_type": "code",
      "source": [
        "df[\"Device Type\"].value_counts().idxmax()"
      ],
      "metadata": {
        "colab": {
          "base_uri": "https://localhost:8080/",
          "height": 35
        },
        "id": "PBr9ZjWJBxux",
        "outputId": "12388a91-0c4e-4e90-828b-6df386c5db1c"
      },
      "execution_count": null,
      "outputs": [
        {
          "output_type": "execute_result",
          "data": {
            "text/plain": [
              "'Apple Apple TV 4 Apple TV'"
            ],
            "application/vnd.google.colaboratory.intrinsic+json": {
              "type": "string"
            }
          },
          "metadata": {},
          "execution_count": 33
        }
      ]
    },
    {
      "cell_type": "markdown",
      "source": [
        "Ej 2 A: Encontrar la película con más ocurrencias y la película con mayor duración total\n",
        "\n",
        "Con respecto a la consigna de obtener la películka con mayor ocurrencias, usé las mismas funciónes de value_counts().idxmax() para contar cuál fue la que más veces se reprodujo en distintos momentos"
      ],
      "metadata": {
        "id": "hE_zgU2zuRKA"
      }
    },
    {
      "cell_type": "code",
      "source": [
        "peliculas[\"Title\"].value_counts().idxmax()"
      ],
      "metadata": {
        "colab": {
          "base_uri": "https://localhost:8080/",
          "height": 35
        },
        "id": "eaknY-rIuP95",
        "outputId": "9accac62-6fbb-4446-bb11-ee0f8660e15c"
      },
      "execution_count": null,
      "outputs": [
        {
          "output_type": "execute_result",
          "data": {
            "text/plain": [
              "'Star Wars: El Imperio contraataca'"
            ],
            "application/vnd.google.colaboratory.intrinsic+json": {
              "type": "string"
            }
          },
          "metadata": {},
          "execution_count": 34
        }
      ]
    },
    {
      "cell_type": "markdown",
      "source": [
        "Ej 2 B: "
      ],
      "metadata": {
        "id": "bV0GgnKU3ml_"
      }
    },
    {
      "cell_type": "code",
      "source": [
        "TitulosPelis = peliculas[\"Title\"].value_counts().to_dict()\n",
        "\n",
        "for e in TitulosPelis.keys():\n",
        "  TitulosPelis[e] = sum(peliculas[peliculas[\"Title\"] == e][\"Duration\"])\n",
        "\n",
        "dict(sorted(TitulosPelis.items(), key=lambda item: item[1], reverse=True)[:1])"
      ],
      "metadata": {
        "colab": {
          "base_uri": "https://localhost:8080/"
        },
        "id": "DwobdBedoQ4_",
        "outputId": "6ea49eb6-fdf6-45b4-eb38-8a0a697db950"
      },
      "execution_count": null,
      "outputs": [
        {
          "output_type": "execute_result",
          "data": {
            "text/plain": [
              "{'Star Wars: El Imperio contraataca': 29433}"
            ]
          },
          "metadata": {},
          "execution_count": 35
        }
      ]
    },
    {
      "cell_type": "markdown",
      "source": [
        "Ej 3 Generar un TOP “N” de series vistas y graficar."
      ],
      "metadata": {
        "id": "upQq93SSC8Zo"
      }
    },
    {
      "cell_type": "code",
      "source": [
        "# series['Title'].value_counts().to_dict() devuelve un valor contando la cantidad de ocurrencias\n",
        "titulosParaSeriesporTiempoVisto = series['Title'].apply(lambda x: x.split(\":\")[0]).value_counts().to_dict()\n",
        "titulosParaSeriesporOcurrencias = series['Title'].apply(lambda x: x.split(\":\")[0]).value_counts().to_dict()\n"
      ],
      "metadata": {
        "id": "qls2t0hQDAmI"
      },
      "execution_count": null,
      "outputs": []
    },
    {
      "cell_type": "code",
      "source": [
        "#Variable para modificar el top\n",
        "topN = 5"
      ],
      "metadata": {
        "id": "JsE-bnG7Cgmi"
      },
      "execution_count": null,
      "outputs": []
    },
    {
      "cell_type": "markdown",
      "source": [
        "A- Por tiempo visto\n"
      ],
      "metadata": {
        "id": "4GS5ojCNDkZH"
      }
    },
    {
      "cell_type": "code",
      "source": [
        "# Cada título diferente encontrado se le suma a la duracion de las ocurrencias\n",
        "for titulo in titulosParaSeriesporTiempoVisto.keys():\n",
        "  titulosParaSeriesporTiempoVisto[titulo] = sum(series[series['Title'].str.contains(titulo)]['Duration'])\n",
        "\n",
        "# La funcion sorted es parecida que en el ejercicio A. La diferencia es que convertimos a diccionario los primeros items\n",
        "datos1 = dict(sorted(titulosParaSeriesporTiempoVisto.items(), key=lambda item: item[1], reverse=True)[:topN])"
      ],
      "metadata": {
        "colab": {
          "base_uri": "https://localhost:8080/"
        },
        "id": "QnXl7eUdCveB",
        "outputId": "191b6a55-6cb4-4762-f568-e3cb5bf61a86"
      },
      "execution_count": null,
      "outputs": [
        {
          "output_type": "stream",
          "name": "stderr",
          "text": [
            "/usr/local/lib/python3.7/dist-packages/ipykernel_launcher.py:3: UserWarning: This pattern has match groups. To actually get the groups, use str.extract.\n",
            "  This is separate from the ipykernel package so we can avoid doing imports until\n"
          ]
        }
      ]
    },
    {
      "cell_type": "code",
      "source": [
        "plt.figure(figsize=(20, 10))\n",
        "plt.bar(datos1.keys(), datos1.values())\n",
        "plt.xlabel(\"Titulos\", fontsize=20)\n",
        "plt.ylabel(\"Segundos\", fontsize=20)\n",
        "plt.show()"
      ],
      "metadata": {
        "colab": {
          "base_uri": "https://localhost:8080/",
          "height": 567
        },
        "id": "gfygVZYcDxe5",
        "outputId": "e79b0092-506f-48f9-c0d0-3df8eeb83024"
      },
      "execution_count": null,
      "outputs": [
        {
          "output_type": "display_data",
          "data": {
            "text/plain": [
              "<Figure size 1440x720 with 1 Axes>"
            ],
            "image/png": "[encoded data removed]"
          },
          "metadata": {
            "needs_background": "light"
          }
        }
      ]
    },
    {
      "cell_type": "markdown",
      "source": [
        "B- Por ocurrencias"
      ],
      "metadata": {
        "id": "VJfUjccdDoVP"
      }
    },
    {
      "cell_type": "code",
      "source": [
        "datos2 = dict(sorted(titulosParaSeriesporOcurrencias.items(), key=lambda item: item[1], reverse=True)[:topN])"
      ],
      "metadata": {
        "id": "O326dgzHEIFZ"
      },
      "execution_count": null,
      "outputs": []
    },
    {
      "cell_type": "code",
      "source": [
        "plt.figure(figsize=(20, 10))\n",
        "plt.bar(datos2.keys(), datos2.values())\n",
        "plt.xlabel(\"Titulos\", fontsize=20)\n",
        "plt.ylabel(\"Segundos\", fontsize=20)\n",
        "plt.show()"
      ],
      "metadata": {
        "colab": {
          "base_uri": "https://localhost:8080/",
          "height": 575
        },
        "id": "ig3Zwt8yEUqA",
        "outputId": "98022c44-a4e6-4cc8-c370-c2beef0b7619"
      },
      "execution_count": null,
      "outputs": [
        {
          "output_type": "display_data",
          "data": {
            "text/plain": [
              "<Figure size 1440x720 with 1 Axes>"
            ],
            "image/png": "[encoded data removed]"
          },
          "metadata": {
            "needs_background": "light"
          }
        }
      ]
    },
    {
      "cell_type": "markdown",
      "source": [
        "Ej 4:"
      ],
      "metadata": {
        "id": "4P3BRDsO5V1o"
      }
    },
    {
      "cell_type": "code",
      "source": [
        "conFecha = hist[hist[\"Device Type\"].apply(filtro_dev)]"
      ],
      "metadata": {
        "id": "FNIKewPn95GR"
      },
      "execution_count": null,
      "outputs": []
    },
    {
      "cell_type": "code",
      "source": [
        "dt = datetime.now()"
      ],
      "metadata": {
        "id": "hai8Vcsr5VSE"
      },
      "execution_count": null,
      "outputs": []
    },
    {
      "cell_type": "code",
      "source": [
        "conFecha[\"Start Time\"] = pd.to_datetime(conFecha[\"Start Time\"])"
      ],
      "metadata": {
        "colab": {
          "base_uri": "https://localhost:8080/"
        },
        "id": "Ty0YLRkj9-65",
        "outputId": "c3503ee6-978a-4b73-875f-9fd8cbd329d7"
      },
      "execution_count": null,
      "outputs": [
        {
          "output_type": "stream",
          "name": "stderr",
          "text": [
            "/usr/local/lib/python3.7/dist-packages/ipykernel_launcher.py:1: SettingWithCopyWarning: \n",
            "A value is trying to be set on a copy of a slice from a DataFrame.\n",
            "Try using .loc[row_indexer,col_indexer] = value instead\n",
            "\n",
            "See the caveats in the documentation: https://pandas.pydata.org/pandas-docs/stable/user_guide/indexing.html#returning-a-view-versus-a-copy\n",
            "  \"\"\"Entry point for launching an IPython kernel.\n"
          ]
        }
      ]
    },
    {
      "cell_type": "code",
      "source": [
        "\n",
        "\n",
        "titulosXdiaYhora = [[y for y in range(24)] for x in range(7)]\n",
        "for dia in range(7):\n",
        "  for hora in range(24):\n",
        "    titulosXdiaYhora[dia][hora] = sum(conFecha[(conFecha['Start Time'].dt.dayofweek == dia) & (conFecha['Start Time'].dt.hour == hora)]['Title'].value_counts().to_list())"
      ],
      "metadata": {
        "id": "iP2UkVgcgrZN"
      },
      "execution_count": null,
      "outputs": []
    },
    {
      "cell_type": "code",
      "source": [
        "Semana = [\"Lunes\", \"Martes\", \"Miercoles\", \"Jueves\", \"Viernes\", \"Sabado\", \"Domingo\"]\n",
        "\n",
        "plt.figure(figsize =(30,10))\n",
        "\n",
        "seaborn.heatmap(titulosXdiaYhora, annot = True, fmt = 'd', square = True, linewidths = 1.5, cbar = True, yticklabels = Semana)\n",
        "plt.xlabel(\"Horas\", fontsize = 20)\n",
        "plt.ylabel(\"Dias\", fontsize = 20)"
      ],
      "metadata": {
        "colab": {
          "base_uri": "https://localhost:8080/",
          "height": 439
        },
        "id": "11-rXG-bhEI9",
        "outputId": "e56c584e-54f5-463d-8386-5fbbbec89b53"
      },
      "execution_count": null,
      "outputs": [
        {
          "output_type": "execute_result",
          "data": {
            "text/plain": [
              "Text(249.0, 0.5, 'Dias')"
            ]
          },
          "metadata": {},
          "execution_count": 40
        },
        {
          "output_type": "display_data",
          "data": {
            "text/plain": [
              "<Figure size 2160x720 with 2 Axes>"
            ],
            "image/png": "[encoded data removed]"
          },
          "metadata": {
            "needs_background": "light"
          }
        }
      ]
    },
    {
      "cell_type": "markdown",
      "source": [
        "Ej 5:"
      ],
      "metadata": {
        "id": "94B9f9mdwfkn"
      }
    },
    {
      "cell_type": "code",
      "source": [
        "dou = df['Start Time'].apply(pd.Timestamp).dt.year.value_counts().to_dict()\n",
        "plt.bar(dou.keys(), dou.values())"
      ],
      "metadata": {
        "id": "Tm6a4FdTwlM8",
        "colab": {
          "base_uri": "https://localhost:8080/",
          "height": 282
        },
        "outputId": "471537d3-a823-4044-fa8e-f4eb3ca99fa2"
      },
      "execution_count": null,
      "outputs": [
        {
          "output_type": "execute_result",
          "data": {
            "text/plain": [
              "<BarContainer object of 8 artists>"
            ]
          },
          "metadata": {},
          "execution_count": 42
        },
        {
          "output_type": "display_data",
          "data": {
            "text/plain": [
              "<Figure size 432x288 with 1 Axes>"
            ],
            "image/png": "[encoded data removed]"
          },
          "metadata": {
            "needs_background": "light"
          }
        }
      ]
    },
    {
      "cell_type": "markdown",
      "source": [
        "Ej 6:"
      ],
      "metadata": {
        "id": "-_nMUhmwwi3e"
      }
    },
    {
      "cell_type": "code",
      "source": [
        "nombrepelis = df['Title'].value_counts().to_dict()\n",
        "\n",
        "totalsegundos = 0\n",
        "\n",
        "for titulo in nombrepelis.keys():\n",
        "  totalsegundos += sum(df[df['Title'] == titulo]['Duration'])\n",
        "\n",
        "dias = totalsegundos/86400\n",
        "horas = (dias - int(dias)) * 24\n",
        "minutos = (horas - int(horas)) * 60\n",
        "segundos = (minutos - int(minutos)) * 60"
      ],
      "metadata": {
        "id": "BAOTr6m_wlje"
      },
      "execution_count": null,
      "outputs": []
    },
    {
      "cell_type": "code",
      "source": [
        "print(str(int(dias)) + \":\" + str(int(horas)) + \":\" + str(int(minutos)) + \":\" + str(int(segundos)))"
      ],
      "metadata": {
        "id": "3BFhsU54ZC24",
        "colab": {
          "base_uri": "https://localhost:8080/"
        },
        "outputId": "a8ab7a82-65f7-41a3-bf62-470609ab2831"
      },
      "execution_count": null,
      "outputs": [
        {
          "output_type": "stream",
          "name": "stdout",
          "text": [
            "99:18:11:41\n"
          ]
        }
      ]
    }
  ]
}